{
  "cells": [
    {
      "cell_type": "markdown",
      "metadata": {},
      "source": [
        "---\n",
        "jupyter: python3\n",
        "---"
      ],
      "id": "025a82ef"
    },
    {
      "cell_type": "code",
      "metadata": {},
      "source": [
        "import numpy as np\n",
        "import matplotlib.pyplot as plt\n",
        "from scipy.signal import periodogram\n",
        "\n",
        "# Simulate time series\n",
        "np.random.seed(123)\n",
        "n = 500  # More points for better frequency resolution\n",
        "t = np.linspace(0, 100, n)  # Longer duration for better frequency resolution\n",
        "signal = np.sin(2 * np.pi * 0.03 * t) + 0.5 * np.sin(2 * np.pi * 0.07 * t)  # 0.03 and 0.07 Hz components\n",
        "noise = np.random.normal(0, 0.2, n)\n",
        "time_series = signal + noise\n",
        "\n",
        "# Compute periodogram\n",
        "frequencies, power = periodogram(time_series)\n",
        "\n",
        "plt.figure(figsize=(8, 5))\n",
        "plt.plot(t, time_series, color='red', lw=1.5)\n",
        "plt.grid()\n",
        "plt.show()\n",
        "\n",
        "# Plot periodogram\n",
        "plt.figure(figsize=(8, 5))\n",
        "plt.plot(frequencies, power, color='blue', lw=1.5)\n",
        "plt.xlim(0, 0.1)  # Focus on frequencies between 0 and 0.1\n",
        "plt.title(\"Periodogram with Two Peaks (0.03 and 0.07 Hz)\")\n",
        "plt.xlabel(\"Frequency (Hz)\")\n",
        "plt.ylabel(\"Spectral Power\")\n",
        "plt.grid()\n",
        "plt.show()\n"
      ],
      "id": "5a458043",
      "execution_count": null,
      "outputs": []
    }
  ],
  "metadata": {
    "kernelspec": {
      "name": "python3",
      "language": "python",
      "display_name": "Python 3 (ipykernel)",
      "path": "C:\\Users\\DELL\\AppData\\Local\\Programs\\Python\\Python312\\share\\jupyter\\kernels\\python3"
    }
  },
  "nbformat": 4,
  "nbformat_minor": 5
}