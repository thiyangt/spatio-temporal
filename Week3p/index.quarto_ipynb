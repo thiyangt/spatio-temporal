{
  "cells": [
    {
      "cell_type": "markdown",
      "metadata": {},
      "source": [
        "---\n",
        "title: \"Time Series Forecasting with Python: Method 1\"\n",
        "jupyter: python3\n",
        "---\n",
        "\n",
        "\n",
        "# Loading packages\n"
      ],
      "id": "12703211"
    },
    {
      "cell_type": "code",
      "metadata": {},
      "source": [
        "import pandas as pd\n",
        "import plotnine as p9 \n",
        "from plotnine import *\n",
        "from plotnine.data import *\n",
        "import numpy as np"
      ],
      "id": "de886d20",
      "execution_count": null,
      "outputs": []
    },
    {
      "cell_type": "markdown",
      "metadata": {},
      "source": [
        "# Read data\n"
      ],
      "id": "0fe65fae"
    },
    {
      "cell_type": "code",
      "metadata": {},
      "source": [
        "airpassenger = pd.read_csv('AirPassengers.csv')\n",
        "airpassenger['Month']= pd.to_datetime(airpassenger['Month'])"
      ],
      "id": "b3406f86",
      "execution_count": null,
      "outputs": []
    },
    {
      "cell_type": "markdown",
      "metadata": {},
      "source": [
        "# Visualise data\n"
      ],
      "id": "01c4ed38"
    },
    {
      "cell_type": "code",
      "metadata": {},
      "source": [
        "ggplot(airpassenger, aes(x='Month', y='#Passengers'))+geom_line()"
      ],
      "id": "153bdd69",
      "execution_count": null,
      "outputs": []
    },
    {
      "cell_type": "markdown",
      "metadata": {},
      "source": [
        "# Training set vs Test set\n"
      ],
      "id": "8ac3a467"
    },
    {
      "cell_type": "code",
      "metadata": {},
      "source": [
        "# Define training and test separation point\n",
        "split_date = '1960-01'\n",
        "\n",
        "# Visualize data\n",
        "g = (\n",
        "    ggplot(airpassenger, aes(x='Month', y='#Passengers')) +\n",
        "    geom_line(color='blue') +\n",
        "    geom_vline(xintercept=pd.to_datetime(split_date), linetype='dashed', color='red') +\n",
        "    labs(\n",
        "        title='Air Passenger Counts Over Time',\n",
        "        x='Month',\n",
        "        y='Number of Passengers'\n",
        "    ) +\n",
        "    theme_minimal()\n",
        ")\n",
        "\n",
        "# Print plot\n",
        "print(g)"
      ],
      "id": "958bccd6",
      "execution_count": null,
      "outputs": []
    },
    {
      "cell_type": "markdown",
      "metadata": {},
      "source": [
        "# Apply log transformation\n"
      ],
      "id": "0973081e"
    },
    {
      "cell_type": "code",
      "metadata": {},
      "source": [
        "airpassenger['Log_Passengers'] = np.log(airpassenger['#Passengers'])\n",
        "\n",
        "# Define training and test separation point\n",
        "split_date = '1960-01-01'\n",
        "\n",
        "# Visualize data\n",
        "g = (\n",
        "    ggplot(airpassenger, aes(x='Month', y='Log_Passengers')) +\n",
        "    geom_line(color='blue') +\n",
        "    geom_vline(xintercept=pd.to_datetime(split_date), linetype='dashed', color='red') +\n",
        "    labs(\n",
        "        title='Log-Transformed Air Passenger Counts Over Time',\n",
        "        x='Month',\n",
        "        y='Log(Number of Passengers)'\n",
        "    ) +\n",
        "    theme_minimal()\n",
        ")\n",
        "\n",
        "# Print plot\n",
        "print(g)"
      ],
      "id": "1ddb64e7",
      "execution_count": null,
      "outputs": []
    },
    {
      "cell_type": "markdown",
      "metadata": {},
      "source": [
        "# Set training data set and test dataset\n"
      ],
      "id": "603b7207"
    },
    {
      "cell_type": "code",
      "metadata": {},
      "source": [
        "training_data = airpassenger[airpassenger['Month'] < pd.to_datetime(split_date)]\n",
        "test_data = airpassenger[airpassenger['Month'] >= pd.to_datetime(split_date)]"
      ],
      "id": "7fa5d188",
      "execution_count": null,
      "outputs": []
    },
    {
      "cell_type": "markdown",
      "metadata": {},
      "source": [
        "# Plot ACF and PACF for training data\n"
      ],
      "id": "7ccca21e"
    },
    {
      "cell_type": "code",
      "metadata": {},
      "source": [
        "import matplotlib.pyplot as plt\n",
        "from statsmodels.graphics.tsaplots import plot_acf, plot_pacf\n",
        "plt.figure(figsize=(12, 6))\n",
        "plt.subplot(1, 2, 1)\n",
        "plot_acf(training_data['Log_Passengers'], lags=40, ax=plt.gca())\n",
        "plt.title('ACF of Log-Transformed Training Data')\n",
        "\n",
        "plt.subplot(1, 2, 2)\n",
        "plot_pacf(training_data['Log_Passengers'], lags=40, ax=plt.gca(), method='ywm')\n",
        "plt.title('PACF of Log-Transformed Training Data')\n",
        "\n",
        "plt.tight_layout()\n",
        "plt.show()"
      ],
      "id": "846933b0",
      "execution_count": null,
      "outputs": []
    },
    {
      "cell_type": "markdown",
      "metadata": {},
      "source": [
        "# Apply First-Order Seasonal Difference and Obtain ACF and PACF\n"
      ],
      "id": "20a3060a"
    },
    {
      "cell_type": "code",
      "metadata": {},
      "source": [
        "airpassenger['LogSeasonal_Diff'] = airpassenger['Log_Passengers'] - airpassenger['Log_Passengers'].shift(12)\n",
        "airpassenger.head(14)"
      ],
      "id": "ad954646",
      "execution_count": null,
      "outputs": []
    },
    {
      "cell_type": "code",
      "metadata": {},
      "source": [
        "airpassenger.tail(12)"
      ],
      "id": "1ec72a0d",
      "execution_count": null,
      "outputs": []
    },
    {
      "cell_type": "markdown",
      "metadata": {},
      "source": [
        "# Remove rows with NaN values from the airpassenger DataFrame\n"
      ],
      "id": "50560ebf"
    },
    {
      "cell_type": "code",
      "metadata": {},
      "source": [
        "airpassenger.dropna(inplace=True)\n",
        "\n",
        "# Display the cleaned DataFrame\n",
        "print(airpassenger)"
      ],
      "id": "1a9a22ed",
      "execution_count": null,
      "outputs": []
    },
    {
      "cell_type": "markdown",
      "metadata": {},
      "source": [
        "# Plot ACF and PACF of the log-seasonally differenced series\n"
      ],
      "id": "7167807e"
    },
    {
      "cell_type": "code",
      "metadata": {},
      "source": [
        "fig, axes = plt.subplots(1, 2, figsize=(16, 6))\n",
        "\n",
        "# ACF plot\n",
        "plot_acf(airpassenger['LogSeasonal_Diff'], ax=axes[0], lags=40)\n",
        "axes[0].set_title('ACF of Log-Seasonally Differenced Series')\n",
        "\n",
        "# PACF plot\n",
        "plot_pacf(airpassenger['LogSeasonal_Diff'], ax=axes[1], lags=40)\n",
        "axes[1].set_title('PACF of Log-Seasonally Differenced Series')\n",
        "\n",
        "plt.tight_layout()\n",
        "plt.show()"
      ],
      "id": "dcaceb11",
      "execution_count": null,
      "outputs": []
    },
    {
      "cell_type": "markdown",
      "metadata": {},
      "source": [
        "# Apply First-Order Differencing\n"
      ],
      "id": "067200d2"
    },
    {
      "cell_type": "code",
      "metadata": {},
      "source": [
        "airpassenger['LogSeasonal_Diff.NonSeaDiff'] = airpassenger['LogSeasonal_Diff'] - airpassenger['LogSeasonal_Diff'].shift(1)\n",
        "airpassenger.head(14)\n",
        "airpassenger.dropna(inplace=True)"
      ],
      "id": "b2147097",
      "execution_count": null,
      "outputs": []
    },
    {
      "cell_type": "code",
      "metadata": {},
      "source": [
        "fig, axes = plt.subplots(1, 2, figsize=(16, 6))\n",
        "\n",
        "# ACF plot\n",
        "plot_acf(airpassenger['LogSeasonal_Diff.NonSeaDiff'], ax=axes[0], lags=40)\n",
        "axes[0].set_title('ACF of Log-Seasonally Differenced and Non Seasonally Differenced Series')\n",
        "\n",
        "# PACF plot\n",
        "plot_pacf(airpassenger['LogSeasonal_Diff.NonSeaDiff'], ax=axes[1], lags=40)\n",
        "axes[1].set_title('PACF of Log-Seasonally Differenced and Non-Seasonally DIfferenced Series')\n",
        "\n",
        "plt.tight_layout()\n",
        "plt.show()"
      ],
      "id": "c693a27f",
      "execution_count": null,
      "outputs": []
    },
    {
      "cell_type": "markdown",
      "metadata": {},
      "source": [
        "# Fit ARIMA(0,1,1)(0,1,1)\\[12\\] model\n"
      ],
      "id": "048d6f99"
    },
    {
      "cell_type": "code",
      "metadata": {},
      "source": [
        "from statsmodels.tsa.arima.model import ARIMA\n",
        "model = ARIMA(airpassenger['Log_Passengers'], order=(0, 1, 1), seasonal_order=(0, 1, 1, 12))\n",
        "fitted_model = model.fit()\n",
        "forecast = fitted_model.forecast(steps=13)\n",
        "forecast"
      ],
      "id": "d10bc514",
      "execution_count": null,
      "outputs": []
    },
    {
      "cell_type": "markdown",
      "metadata": {},
      "source": [
        "# Residual Analysis\n"
      ],
      "id": "24e2d255"
    },
    {
      "cell_type": "code",
      "metadata": {},
      "source": [
        "import seaborn as sns\n",
        "# Compute residuals\n",
        "train_forecast = fitted_model.fittedvalues\n",
        "residuals = airpassenger['Log_Passengers'] - train_forecast\n",
        "\n",
        "# Plot residuals\n",
        "plt.figure(figsize=(10, 6))\n",
        "plt.plot(airpassenger['Month'], residuals, label='Residuals', color='purple')\n",
        "plt.axhline(0, color='black', linewidth=1)\n",
        "plt.title('Residuals from ARIMA Model')\n",
        "plt.xlabel('Month')\n",
        "plt.ylabel('Residuals')\n",
        "plt.legend()\n",
        "plt.grid(True)\n",
        "plt.show()\n",
        "\n",
        "# Plot the ACF and PACF of residuals to check for autocorrelation\n",
        "plt.figure(figsize=(12, 6))\n",
        "\n",
        "plt.subplot(1, 2, 1)\n",
        "plot_acf(residuals, lags=20, ax=plt.gca())\n",
        "plt.title('ACF of Residuals')\n",
        "\n",
        "plt.subplot(1, 2, 2)\n",
        "plot_pacf(residuals, lags=20, ax=plt.gca())\n",
        "plt.title('PACF of Residuals')\n",
        "\n",
        "plt.tight_layout()\n",
        "plt.show()\n",
        "\n",
        "# Histogram of residuals to check for normality\n",
        "plt.figure(figsize=(10, 6))\n",
        "sns.histplot(residuals, kde=True, color='purple', bins=20)\n",
        "plt.title('Histogram of Residuals')\n",
        "plt.xlabel('Residuals')\n",
        "plt.ylabel('Frequency')\n",
        "plt.show()"
      ],
      "id": "bd9517e6",
      "execution_count": null,
      "outputs": []
    },
    {
      "cell_type": "markdown",
      "metadata": {},
      "source": [
        "# Back-transform forecasted log values to original scale\n"
      ],
      "id": "b100a745"
    },
    {
      "cell_type": "code",
      "metadata": {},
      "source": [
        "forecast_original = np.exp(forecast)\n",
        "test_data['forecast_log'] = forecast\n",
        "test_data['forecast_passengers'] = forecast_original\n",
        "test_data"
      ],
      "id": "d3c57f7e",
      "execution_count": null,
      "outputs": []
    },
    {
      "cell_type": "markdown",
      "metadata": {},
      "source": [
        "# Compute MSE\n"
      ],
      "id": "a3232fdd"
    },
    {
      "cell_type": "code",
      "metadata": {},
      "source": [
        "from sklearn.metrics import mean_squared_error\n",
        "mse = mean_squared_error(test_data['#Passengers'], test_data['forecast_passengers'])\n",
        "\n",
        "print(f'Mean Squared Error (MSE): {mse}')"
      ],
      "id": "9f8c672d",
      "execution_count": null,
      "outputs": []
    },
    {
      "cell_type": "markdown",
      "metadata": {},
      "source": [
        "## Your turn: Write R codes to identify the suitable SARIMA model for AirPassengers dataset."
      ],
      "id": "c42410e4"
    }
  ],
  "metadata": {
    "kernelspec": {
      "display_name": "Python 3",
      "language": "python",
      "name": "python3"
    }
  },
  "nbformat": 4,
  "nbformat_minor": 5
}